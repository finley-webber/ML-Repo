{
 "cells": [
  {
   "cell_type": "markdown",
   "metadata": {},
   "source": [
    "## A Neural Network model for the Iris Dataset"
   ]
  },
  {
   "cell_type": "code",
   "execution_count": 53,
   "metadata": {},
   "outputs": [
    {
     "name": "stdout",
     "output_type": "stream",
     "text": [
      "Requirement already satisfied: scikit-learn in /opt/homebrew/lib/python3.11/site-packages (1.3.0)\n",
      "Requirement already satisfied: numpy>=1.17.3 in /opt/homebrew/lib/python3.11/site-packages (from scikit-learn) (1.24.3)\n",
      "Requirement already satisfied: scipy>=1.5.0 in /opt/homebrew/lib/python3.11/site-packages (from scikit-learn) (1.11.2)\n",
      "Requirement already satisfied: joblib>=1.1.1 in /opt/homebrew/lib/python3.11/site-packages (from scikit-learn) (1.3.2)\n",
      "Requirement already satisfied: threadpoolctl>=2.0.0 in /opt/homebrew/lib/python3.11/site-packages (from scikit-learn) (3.2.0)\n"
     ]
    }
   ],
   "source": [
    "!pip3 install scikit-learn"
   ]
  },
  {
   "cell_type": "markdown",
   "metadata": {},
   "source": [
    "### Install sklearn for the dataset and training"
   ]
  },
  {
   "cell_type": "code",
   "execution_count": 54,
   "metadata": {},
   "outputs": [
    {
     "name": "stderr",
     "output_type": "stream",
     "text": [
      "/opt/homebrew/lib/python3.11/site-packages/sklearn/preprocessing/_encoders.py:972: FutureWarning: `sparse` was renamed to `sparse_output` in version 1.2 and will be removed in 1.4. `sparse_output` is ignored unless you leave `sparse` to its default value.\n",
      "  warnings.warn(\n"
     ]
    }
   ],
   "source": [
    "import numpy as np\n",
    "from sklearn import datasets\n",
    "from sklearn.model_selection import train_test_split\n",
    "from sklearn.preprocessing import OneHotEncoder\n",
    "from tensorflow import keras\n",
    "from tensorflow.keras.models import Sequential\n",
    "from tensorflow.keras.layers import Dense\n",
    "\n",
    "# Load the Iris dataset\n",
    "iris = datasets.load_iris()\n",
    "X = iris.data\n",
    "y = iris.target.reshape(-1, 1)  # reshape target to be a 2D array\n",
    "\n",
    "# One hot encoding\n",
    "encoder = OneHotEncoder(sparse=False)\n",
    "y_onehot = encoder.fit_transform(y)\n"
   ]
  },
  {
   "cell_type": "markdown",
   "metadata": {},
   "source": [
    "### The code imports essential libraries, loads the Iris dataset, stores feature data in `X` and labels in `y`, then reshapes and one-hot encodes the labels into a binary matrix representation."
   ]
  },
  {
   "cell_type": "code",
   "execution_count": 55,
   "metadata": {},
   "outputs": [],
   "source": [
    "X_train, X_test, y_train, y_test = train_test_split(X, y_onehot, test_size=0.2, random_state=42)"
   ]
  },
  {
   "cell_type": "markdown",
   "metadata": {},
   "source": [
    "### The code partitions the data into 80% training and 20% testing sets using `train_test_split`, ensuring consistent splits across runs with `random_state=42`."
   ]
  },
  {
   "cell_type": "code",
   "execution_count": 56,
   "metadata": {},
   "outputs": [
    {
     "name": "stdout",
     "output_type": "stream",
     "text": [
      "Epoch 1/50\n",
      "4/4 [==============================] - 0s 942us/step - loss: 0.9810 - accuracy: 0.6417\n",
      "Epoch 2/50\n",
      "4/4 [==============================] - 0s 671us/step - loss: 0.9176 - accuracy: 0.6750\n",
      "Epoch 3/50\n",
      "4/4 [==============================] - 0s 745us/step - loss: 0.8740 - accuracy: 0.6750\n",
      "Epoch 4/50\n",
      "4/4 [==============================] - 0s 831us/step - loss: 0.8360 - accuracy: 0.6750\n",
      "Epoch 5/50\n",
      "4/4 [==============================] - 0s 740us/step - loss: 0.8003 - accuracy: 0.6750\n",
      "Epoch 6/50\n",
      "4/4 [==============================] - 0s 1ms/step - loss: 0.7696 - accuracy: 0.6750\n",
      "Epoch 7/50\n",
      "4/4 [==============================] - 0s 687us/step - loss: 0.7404 - accuracy: 0.6750\n",
      "Epoch 8/50\n",
      "4/4 [==============================] - 0s 616us/step - loss: 0.7162 - accuracy: 0.6750\n",
      "Epoch 9/50\n",
      "4/4 [==============================] - 0s 597us/step - loss: 0.6931 - accuracy: 0.6750\n",
      "Epoch 10/50\n",
      "4/4 [==============================] - 0s 1ms/step - loss: 0.6735 - accuracy: 0.6750\n",
      "Epoch 11/50\n",
      "4/4 [==============================] - 0s 790us/step - loss: 0.6556 - accuracy: 0.6750\n",
      "Epoch 12/50\n",
      "4/4 [==============================] - 0s 660us/step - loss: 0.6385 - accuracy: 0.6750\n",
      "Epoch 13/50\n",
      "4/4 [==============================] - 0s 712us/step - loss: 0.6227 - accuracy: 0.6750\n",
      "Epoch 14/50\n",
      "4/4 [==============================] - 0s 692us/step - loss: 0.6074 - accuracy: 0.6750\n",
      "Epoch 15/50\n",
      "4/4 [==============================] - 0s 872us/step - loss: 0.5931 - accuracy: 0.6750\n",
      "Epoch 16/50\n",
      "4/4 [==============================] - 0s 687us/step - loss: 0.5796 - accuracy: 0.6750\n",
      "Epoch 17/50\n",
      "4/4 [==============================] - 0s 645us/step - loss: 0.5668 - accuracy: 0.6833\n",
      "Epoch 18/50\n",
      "4/4 [==============================] - 0s 664us/step - loss: 0.5559 - accuracy: 0.7583\n",
      "Epoch 19/50\n",
      "4/4 [==============================] - 0s 1ms/step - loss: 0.5461 - accuracy: 0.8167\n",
      "Epoch 20/50\n",
      "4/4 [==============================] - 0s 684us/step - loss: 0.5369 - accuracy: 0.8333\n",
      "Epoch 21/50\n",
      "4/4 [==============================] - 0s 803us/step - loss: 0.5287 - accuracy: 0.8417\n",
      "Epoch 22/50\n",
      "4/4 [==============================] - 0s 659us/step - loss: 0.5209 - accuracy: 0.8583\n",
      "Epoch 23/50\n",
      "4/4 [==============================] - 0s 645us/step - loss: 0.5134 - accuracy: 0.8583\n",
      "Epoch 24/50\n",
      "4/4 [==============================] - 0s 889us/step - loss: 0.5062 - accuracy: 0.8583\n",
      "Epoch 25/50\n",
      "4/4 [==============================] - 0s 609us/step - loss: 0.4998 - accuracy: 0.8917\n",
      "Epoch 26/50\n",
      "4/4 [==============================] - 0s 602us/step - loss: 0.4931 - accuracy: 0.9000\n",
      "Epoch 27/50\n",
      "4/4 [==============================] - 0s 704us/step - loss: 0.4867 - accuracy: 0.8917\n",
      "Epoch 28/50\n",
      "4/4 [==============================] - 0s 939us/step - loss: 0.4800 - accuracy: 0.8917\n",
      "Epoch 29/50\n",
      "4/4 [==============================] - 0s 752us/step - loss: 0.4741 - accuracy: 0.9000\n",
      "Epoch 30/50\n",
      "4/4 [==============================] - 0s 648us/step - loss: 0.4679 - accuracy: 0.9000\n",
      "Epoch 31/50\n",
      "4/4 [==============================] - 0s 569us/step - loss: 0.4625 - accuracy: 0.9000\n",
      "Epoch 32/50\n",
      "4/4 [==============================] - 0s 731us/step - loss: 0.4560 - accuracy: 0.9083\n",
      "Epoch 33/50\n",
      "4/4 [==============================] - 0s 893us/step - loss: 0.4507 - accuracy: 0.9250\n",
      "Epoch 34/50\n",
      "4/4 [==============================] - 0s 643us/step - loss: 0.4452 - accuracy: 0.9250\n",
      "Epoch 35/50\n",
      "4/4 [==============================] - 0s 574us/step - loss: 0.4393 - accuracy: 0.9250\n",
      "Epoch 36/50\n",
      "4/4 [==============================] - 0s 715us/step - loss: 0.4344 - accuracy: 0.9250\n",
      "Epoch 37/50\n",
      "4/4 [==============================] - 0s 961us/step - loss: 0.4291 - accuracy: 0.9250\n",
      "Epoch 38/50\n",
      "4/4 [==============================] - 0s 769us/step - loss: 0.4240 - accuracy: 0.9333\n",
      "Epoch 39/50\n",
      "4/4 [==============================] - 0s 648us/step - loss: 0.4193 - accuracy: 0.9333\n",
      "Epoch 40/50\n",
      "4/4 [==============================] - 0s 669us/step - loss: 0.4145 - accuracy: 0.9333\n",
      "Epoch 41/50\n",
      "4/4 [==============================] - 0s 985us/step - loss: 0.4100 - accuracy: 0.9333\n",
      "Epoch 42/50\n",
      "4/4 [==============================] - 0s 680us/step - loss: 0.4051 - accuracy: 0.9250\n",
      "Epoch 43/50\n",
      "4/4 [==============================] - 0s 638us/step - loss: 0.4007 - accuracy: 0.9333\n",
      "Epoch 44/50\n",
      "4/4 [==============================] - 0s 809us/step - loss: 0.3959 - accuracy: 0.9250\n",
      "Epoch 45/50\n",
      "4/4 [==============================] - 0s 700us/step - loss: 0.3914 - accuracy: 0.9417\n",
      "Epoch 46/50\n",
      "4/4 [==============================] - 0s 4ms/step - loss: 0.3869 - accuracy: 0.9417\n",
      "Epoch 47/50\n",
      "4/4 [==============================] - 0s 2ms/step - loss: 0.3822 - accuracy: 0.9417\n",
      "Epoch 48/50\n",
      "4/4 [==============================] - 0s 3ms/step - loss: 0.3779 - accuracy: 0.9333\n",
      "Epoch 49/50\n",
      "4/4 [==============================] - 0s 722us/step - loss: 0.3734 - accuracy: 0.9417\n",
      "Epoch 50/50\n",
      "4/4 [==============================] - 0s 561us/step - loss: 0.3689 - accuracy: 0.9417\n"
     ]
    },
    {
     "data": {
      "text/plain": [
       "<keras.src.callbacks.History at 0x28b72e5d0>"
      ]
     },
     "execution_count": 56,
     "metadata": {},
     "output_type": "execute_result"
    }
   ],
   "source": [
    "model = Sequential()\n",
    "\n",
    "# Input layer\n",
    "model.add(Dense(units=10, activation='relu', input_shape=(4,)))\n",
    "\n",
    "# Hidden layer\n",
    "model.add(Dense(units=10, activation='relu'))\n",
    "\n",
    "# Output layer\n",
    "model.add(Dense(units=3, activation='softmax'))\n",
    "\n",
    "# Compile the model\n",
    "model.compile(optimizer='adam', loss='categorical_crossentropy', metrics=['accuracy'])\n",
    "\n",
    "# Train the model\n",
    "model.fit(X_train, y_train, epochs=50)"
   ]
  },
  {
   "cell_type": "markdown",
   "metadata": {},
   "source": [
    "### The model has two layers with 10 neurons each using ReLU activation and an output layer with 3 neurons using softmax for classification. It's compiled with the Adam optimizer, categorical crossentropy loss, and trained for 50 epochs on `X_train` and `y_train`."
   ]
  },
  {
   "cell_type": "code",
   "execution_count": 57,
   "metadata": {},
   "outputs": [
    {
     "name": "stdout",
     "output_type": "stream",
     "text": [
      "1/1 [==============================] - 0s 53ms/step - loss: 0.3818 - accuracy: 0.9000\n",
      "Test Accuracy: 90.00%\n"
     ]
    }
   ],
   "source": [
    "loss, accuracy = model.evaluate(X_test, y_test)\n",
    "print(f\"Test Accuracy: {accuracy * 100:.2f}%\")"
   ]
  },
  {
   "cell_type": "markdown",
   "metadata": {},
   "source": [
    "### The code evaluates the performance of a trained model on the test data `X_test` and `y_test`, then prints the model's accuracy as a percentage."
   ]
  },
  {
   "cell_type": "markdown",
   "metadata": {},
   "source": []
  }
 ],
 "metadata": {
  "kernelspec": {
   "display_name": "Python 3",
   "language": "python",
   "name": "python3"
  },
  "language_info": {
   "codemirror_mode": {
    "name": "ipython",
    "version": 3
   },
   "file_extension": ".py",
   "mimetype": "text/x-python",
   "name": "python",
   "nbconvert_exporter": "python",
   "pygments_lexer": "ipython3",
   "version": "3.11.4"
  },
  "orig_nbformat": 4
 },
 "nbformat": 4,
 "nbformat_minor": 2
}
